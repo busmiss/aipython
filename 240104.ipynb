{
  "nbformat": 4,
  "nbformat_minor": 0,
  "metadata": {
    "colab": {
      "provenance": [],
      "authorship_tag": "ABX9TyOFTFbvIzwSqCZ/AvRK1u4L",
      "include_colab_link": true
    },
    "kernelspec": {
      "name": "python3",
      "display_name": "Python 3"
    },
    "language_info": {
      "name": "python"
    }
  },
  "cells": [
    {
      "cell_type": "markdown",
      "metadata": {
        "id": "view-in-github",
        "colab_type": "text"
      },
      "source": [
        "<a href=\"https://colab.research.google.com/github/busmiss/aipython/blob/main/240104.ipynb\" target=\"_parent\"><img src=\"https://colab.research.google.com/assets/colab-badge.svg\" alt=\"Open In Colab\"/></a>"
      ]
    },
    {
      "cell_type": "code",
      "execution_count": 11,
      "metadata": {
        "colab": {
          "base_uri": "https://localhost:8080/"
        },
        "id": "LBCg6szVcq9N",
        "outputId": "995d655a-c329-44be-9c4e-01b66a73fd04"
      },
      "outputs": [
        {
          "output_type": "stream",
          "name": "stdout",
          "text": [
            "학생의 점수를 입력하세요 : 60\n",
            "학생의 점수를 입력하세요 : 70\n",
            "학생의 점수를 입력하세요 : 50\n",
            "학생의 점수를 입력하세요 : x\n",
            "입력 데이터 출력 :  [60, 70, 50]\n",
            "합계 :  180\n",
            "인원수 :  3\n",
            "평균 : 60.00\n"
          ]
        }
      ],
      "source": [
        "score = []\n",
        "while True:\n",
        "  try :\n",
        "    score.append(int(input(\"학생의 점수를 입력하세요 : \")))\n",
        "  except ValueError:\n",
        "    break\n",
        "\n",
        "avg = sum(score)/len(score)\n",
        "print('입력 데이터 출력 : ', score)\n",
        "print('합계 : ', sum(score))\n",
        "print('인원수 : ', len(score))\n",
        "print('평균 : %.2f' %avg)\n"
      ]
    }
  ]
}